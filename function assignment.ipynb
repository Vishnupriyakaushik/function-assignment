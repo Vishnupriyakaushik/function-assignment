{
 "cells": [
  {
   "cell_type": "code",
   "execution_count": 1,
   "id": "54a0570b-5529-4745-8973-3729929ea0f9",
   "metadata": {},
   "outputs": [
    {
     "name": "stdout",
     "output_type": "stream",
     "text": [
      "[('jack kallis', 25534), ('ricky ponting', 27483), ('sachin tendulkar', 34357), ('virat kohli', 24936)]\n"
     ]
    }
   ],
   "source": [
    "my_list = [('sachin tendulkar' , 34357) , ('ricky ponting' , 27483) , ('jack kallis' , 25534) , ('virat kohli' , 24936)]\n",
    "sorted_list = sorted(my_list , key=lambda x: x[0])\n",
    "print(sorted_list)"
   ]
  },
  {
   "cell_type": "code",
   "execution_count": 5,
   "id": "dbdce8d0-7ce1-4f40-ac3c-515cbe09e32c",
   "metadata": {},
   "outputs": [
    {
     "name": "stdout",
     "output_type": "stream",
     "text": [
      "('1', '2', '3', '4', '5', '6', '7', '8', '9', '10')\n"
     ]
    }
   ],
   "source": [
    "my_list = [1,2,3,4,5,6,7,8,9,10]\n",
    "string_tuple = tuple(map(lambda x:str(x) , my_list))\n",
    "print(string_tuple)"
   ]
  },
  {
   "cell_type": "code",
   "execution_count": 7,
   "id": "dc8f6ba4",
   "metadata": {},
   "outputs": [
    {
     "name": "stdout",
     "output_type": "stream",
     "text": [
      "[1, 4, 9, 16, 25, 36, 49, 64, 81, 100]\n"
     ]
    }
   ],
   "source": [
    "my_list = [1,2,3,4,5,6,7,8,9,10]\n",
    "my_list= list(map(lambda x: x**2 , my_list))\n",
    "print(my_list)"
   ]
  },
  {
   "cell_type": "code",
   "execution_count": 8,
   "id": "24a0469b-f3fe-41e6-bd04-97965c9169ed",
   "metadata": {},
   "outputs": [
    {
     "name": "stdout",
     "output_type": "stream",
     "text": [
      "620448401733239439360000\n"
     ]
    }
   ],
   "source": [
    "from functools import reduce \n",
    "my_list = list(range(1 , 25))\n",
    "product = reduce(lambda x , y: x * y , my_list)\n",
    "print(product)"
   ]
  },
  {
   "cell_type": "code",
   "execution_count": 10,
   "id": "53e1556e-1f61-483a-bd5c-bc6915bb397b",
   "metadata": {},
   "outputs": [
    {
     "name": "stdout",
     "output_type": "stream",
     "text": [
      "[6, 60, 90, 120]\n"
     ]
    }
   ],
   "source": [
    "my_list = [2,3,6,9,27,60,90,120,55,46]\n",
    "divisible_by_2_and_3 = list(filter(lambda x: x%2 == 0 and x%3 == 0 , my_list))\n",
    "print(divisible_by_2_and_3)"
   ]
  },
  {
   "cell_type": "code",
   "execution_count": 11,
   "id": "ff8a218f-119b-4887-b9e0-32e438a2f264",
   "metadata": {},
   "outputs": [
    {
     "name": "stdout",
     "output_type": "stream",
     "text": [
      "['php', 'aba', 'radar', 'level']\n"
     ]
    }
   ],
   "source": [
    "my_list = ['python','php','aba','radar','level']\n",
    "palindromes = list(filter(lambda x: x == x[::-1], my_list))\n",
    "print(palindromes)"
   ]
  },
  {
   "cell_type": "code",
   "execution_count": null,
   "id": "93b43a15-d250-4ba9-9fde-3bb699ac68b2",
   "metadata": {},
   "outputs": [],
   "source": []
  }
 ],
 "metadata": {
  "kernelspec": {
   "display_name": "Python 3 (ipykernel)",
   "language": "python",
   "name": "python3"
  },
  "language_info": {
   "codemirror_mode": {
    "name": "ipython",
    "version": 3
   },
   "file_extension": ".py",
   "mimetype": "text/x-python",
   "name": "python",
   "nbconvert_exporter": "python",
   "pygments_lexer": "ipython3",
   "version": "3.10.8"
  }
 },
 "nbformat": 4,
 "nbformat_minor": 5
}
